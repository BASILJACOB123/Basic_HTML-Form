{
  "nbformat": 4,
  "nbformat_minor": 0,
  "metadata": {
    "colab": {
      "name": "Untitled14.ipynb",
      "provenance": [],
      "authorship_tag": "ABX9TyNqV9Dox3KylXd9G2F72Ab/",
      "include_colab_link": true
    },
    "kernelspec": {
      "name": "python3",
      "display_name": "Python 3"
    },
    "language_info": {
      "name": "python"
    }
  },
  "cells": [
    {
      "cell_type": "markdown",
      "metadata": {
        "id": "view-in-github",
        "colab_type": "text"
      },
      "source": [
        "<a href=\"https://colab.research.google.com/github/BASILJACOB123/Basic_HTML-Form/blob/master/Untitled14.ipynb\" target=\"_parent\"><img src=\"https://colab.research.google.com/assets/colab-badge.svg\" alt=\"Open In Colab\"/></a>"
      ]
    },
    {
      "cell_type": "code",
      "metadata": {
        "colab": {
          "base_uri": "https://localhost:8080/"
        },
        "id": "5CbJVsoS4B1v",
        "outputId": "e0fc9413-0162-4ed2-c7db-8b1eaacd8ff7"
      },
      "source": [
        "import numpy as np\n",
        "a=np.random.randn(5,1)\n",
        "a"
      ],
      "execution_count": 2,
      "outputs": [
        {
          "output_type": "execute_result",
          "data": {
            "text/plain": [
              "array([[ 2.0077836 ],\n",
              "       [ 0.15534706],\n",
              "       [-0.44472208],\n",
              "       [-0.95269069],\n",
              "       [-2.27262414]])"
            ]
          },
          "metadata": {},
          "execution_count": 2
        }
      ]
    },
    {
      "cell_type": "code",
      "metadata": {
        "colab": {
          "base_uri": "https://localhost:8080/"
        },
        "id": "s9rozg2h4Ea6",
        "outputId": "9c2eeca7-4399-4a39-b562-c695cd8eae48"
      },
      "source": [
        "print(a.T)"
      ],
      "execution_count": 3,
      "outputs": [
        {
          "output_type": "stream",
          "name": "stdout",
          "text": [
            "[[ 2.0077836   0.15534706 -0.44472208 -0.95269069 -2.27262414]]\n"
          ]
        }
      ]
    },
    {
      "cell_type": "code",
      "metadata": {
        "colab": {
          "base_uri": "https://localhost:8080/"
        },
        "id": "ReOtkIZa4RQQ",
        "outputId": "5449dd7d-4b72-46e6-b71e-af2a8a256001"
      },
      "source": [
        "print(np.dot(a,a.T))"
      ],
      "execution_count": 4,
      "outputs": [
        {
          "output_type": "stream",
          "name": "stdout",
          "text": [
            "[[ 4.03119499  0.31190328 -0.89290571 -1.91279674 -4.56293748]\n",
            " [ 0.31190328  0.02413271 -0.06908627 -0.1479977  -0.35304548]\n",
            " [-0.89290571 -0.06908627  0.19777773  0.42368259  1.01068614]\n",
            " [-1.91279674 -0.1479977   0.42368259  0.90761955  2.16510785]\n",
            " [-4.56293748 -0.35304548  1.01068614  2.16510785  5.16482047]]\n"
          ]
        }
      ]
    },
    {
      "cell_type": "code",
      "metadata": {
        "id": "ZrK8XtAe4T1S"
      },
      "source": [
        "assert(a.shape==(5,1))"
      ],
      "execution_count": 5,
      "outputs": []
    },
    {
      "cell_type": "code",
      "metadata": {
        "id": "5r6jnIcT4i0F"
      },
      "source": [
        "import math\n",
        "\n",
        "def basic_sigmoid(x):\n",
        "\n",
        "  sig=1/(1+math.exp(-x))\n",
        "\n",
        "  return sig "
      ],
      "execution_count": 7,
      "outputs": []
    },
    {
      "cell_type": "code",
      "metadata": {
        "colab": {
          "base_uri": "https://localhost:8080/"
        },
        "id": "tdL3RzFt7Wlc",
        "outputId": "2e89b2a1-d605-49be-cf30-5de95c18f92f"
      },
      "source": [
        "basic_sigmoid(3)"
      ],
      "execution_count": 8,
      "outputs": [
        {
          "output_type": "execute_result",
          "data": {
            "text/plain": [
              "0.9525741268224334"
            ]
          },
          "metadata": {},
          "execution_count": 8
        }
      ]
    },
    {
      "cell_type": "code",
      "metadata": {
        "colab": {
          "base_uri": "https://localhost:8080/"
        },
        "id": "mS7REky47iv6",
        "outputId": "75c6f63f-4658-4bd3-b09c-c693f5f11fa8"
      },
      "source": [
        "x=np.array([1,2,3])\n",
        "basic_sigmoid(1/1+np.exp(-x))"
      ],
      "execution_count": 13,
      "outputs": [
        {
          "output_type": "execute_result",
          "data": {
            "text/plain": [
              "array([0.79703733, 0.75682216, 0.74073401])"
            ]
          },
          "metadata": {},
          "execution_count": 13
        }
      ]
    },
    {
      "cell_type": "code",
      "metadata": {
        "colab": {
          "base_uri": "https://localhost:8080/"
        },
        "id": "rVh5DAnM7mdV",
        "outputId": "2b528c44-02a2-433e-f8a2-04c47a812f76"
      },
      "source": [
        "print(x+3)"
      ],
      "execution_count": 14,
      "outputs": [
        {
          "output_type": "stream",
          "name": "stdout",
          "text": [
            "[4 5 6]\n"
          ]
        }
      ]
    },
    {
      "cell_type": "code",
      "metadata": {
        "id": "c2kCiLLB8Cvk"
      },
      "source": [
        "def sigmoid(x):\n",
        "\n",
        "  return 1/(1+np.exp(-x))"
      ],
      "execution_count": 15,
      "outputs": []
    },
    {
      "cell_type": "code",
      "metadata": {
        "colab": {
          "base_uri": "https://localhost:8080/"
        },
        "id": "xmTlsWbp8K28",
        "outputId": "51fdc5fd-2d47-4178-8a72-eb45a14a4f87"
      },
      "source": [
        "x=np.array([1,2,3])\n",
        "sigmoid(x)"
      ],
      "execution_count": 16,
      "outputs": [
        {
          "output_type": "execute_result",
          "data": {
            "text/plain": [
              "array([0.73105858, 0.88079708, 0.95257413])"
            ]
          },
          "metadata": {},
          "execution_count": 16
        }
      ]
    },
    {
      "cell_type": "code",
      "metadata": {
        "id": "qAt-7Wxj8PB5"
      },
      "source": [
        "def sigmoid_derivative(x):\n",
        "\n",
        "  a=sigmoid(x)\n",
        "  da=a*(1-a)\n",
        "\n",
        "  return da"
      ],
      "execution_count": 17,
      "outputs": []
    },
    {
      "cell_type": "code",
      "metadata": {
        "colab": {
          "base_uri": "https://localhost:8080/"
        },
        "id": "CfIBu5Yj8q7O",
        "outputId": "c3f06076-6f7b-4308-d44e-0de8d7663d78"
      },
      "source": [
        "x=np.array([1,2,3])\n",
        "sigmoid_derivative(x)"
      ],
      "execution_count": 19,
      "outputs": [
        {
          "output_type": "execute_result",
          "data": {
            "text/plain": [
              "array([0.19661193, 0.10499359, 0.04517666])"
            ]
          },
          "metadata": {},
          "execution_count": 19
        }
      ]
    },
    {
      "cell_type": "code",
      "metadata": {
        "id": "qH3s95L99LMp"
      },
      "source": [
        ""
      ],
      "execution_count": null,
      "outputs": []
    },
    {
      "cell_type": "markdown",
      "metadata": {
        "id": "HpXuAsn59GPF"
      },
      "source": [
        " Reshaping arrays"
      ]
    },
    {
      "cell_type": "code",
      "metadata": {
        "id": "3_NXvtZH9IaI"
      },
      "source": [
        "def image2vector(image):\n",
        "  \"\"\"\n",
        "    Argument:\n",
        "    image -- a numpy array of shape (length, height, depth)\n",
        "    \n",
        "    Returns:\n",
        "    v -- a vector of shape (length*height*depth, 1)\n",
        "  \"\"\"\n",
        "  \n",
        "  v=image.reshape(image.shape[0]*image.shape[1]*image.shape[2],1)\n",
        "\n",
        "  return v"
      ],
      "execution_count": 24,
      "outputs": []
    },
    {
      "cell_type": "code",
      "metadata": {
        "colab": {
          "base_uri": "https://localhost:8080/"
        },
        "id": "CmynftJD9aSY",
        "outputId": "9293748d-63f1-485c-85f6-243c2565b9ce"
      },
      "source": [
        "# This is a 3 by 3 by 2 array, typically images will be (num_px_x, num_px_y,3) where 3 represents the RGB values\n",
        "image = np.array([[[ 0.67826139,  0.29380381],\n",
        "        [ 0.90714982,  0.52835647],\n",
        "        [ 0.4215251 ,  0.45017551]],\n",
        "\n",
        "       [[ 0.92814219,  0.96677647],\n",
        "        [ 0.85304703,  0.52351845],\n",
        "        [ 0.19981397,  0.27417313]],\n",
        "\n",
        "       [[ 0.60659855,  0.00533165],\n",
        "        [ 0.10820313,  0.49978937],\n",
        "        [ 0.34144279,  0.94630077]]])\n",
        "\n",
        "print (\"image2vector(image) = \" + str(image2vector(image)))"
      ],
      "execution_count": 25,
      "outputs": [
        {
          "output_type": "stream",
          "name": "stdout",
          "text": [
            "image2vector(image) = [[0.67826139]\n",
            " [0.29380381]\n",
            " [0.90714982]\n",
            " [0.52835647]\n",
            " [0.4215251 ]\n",
            " [0.45017551]\n",
            " [0.92814219]\n",
            " [0.96677647]\n",
            " [0.85304703]\n",
            " [0.52351845]\n",
            " [0.19981397]\n",
            " [0.27417313]\n",
            " [0.60659855]\n",
            " [0.00533165]\n",
            " [0.10820313]\n",
            " [0.49978937]\n",
            " [0.34144279]\n",
            " [0.94630077]]\n"
          ]
        }
      ]
    },
    {
      "cell_type": "markdown",
      "metadata": {
        "id": "i1orr55P-N9c"
      },
      "source": [
        "Normalizing rows"
      ]
    },
    {
      "cell_type": "code",
      "metadata": {
        "id": "ovvu8QO4-g2W"
      },
      "source": [
        ""
      ],
      "execution_count": null,
      "outputs": []
    }
  ]
}